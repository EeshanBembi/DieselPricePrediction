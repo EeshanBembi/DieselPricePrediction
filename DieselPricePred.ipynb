{
  "nbformat": 4,
  "nbformat_minor": 0,
  "metadata": {
    "colab": {
      "name": "InternshipAssignmentQ2.ipynb",
      "version": "0.3.2",
      "provenance": []
    },
    "kernelspec": {
      "name": "python3",
      "display_name": "Python 3"
    },
    "accelerator": "GPU"
  },
  "cells": [
    {
      "metadata": {
        "id": "ZK8_rHEWfytk",
        "colab_type": "text"
      },
      "cell_type": "markdown",
      "source": [
        "# **Data Pre-processing Phase**\n",
        "First, we will import the required python libraries.\n",
        "We are using numpy for mathematical operations,pandas for dataset manipulation and matplotlib for plotting and visualising.\n",
        "\n"
      ]
    },
    {
      "metadata": {
        "id": "WIAgpzJ4ep5D",
        "colab_type": "code",
        "colab": {}
      },
      "cell_type": "code",
      "source": [
        "import numpy as np  \n",
        "import matplotlib.pyplot as plt  \n",
        "import pandas as pd"
      ],
      "execution_count": 0,
      "outputs": []
    },
    {
      "metadata": {
        "id": "yWeFJh81t5Xw",
        "colab_type": "text"
      },
      "cell_type": "markdown",
      "source": [
        "Standard code for uploading a file in colab"
      ]
    },
    {
      "metadata": {
        "id": "a3EyUI7mg1g-",
        "colab_type": "code",
        "outputId": "dcc1a646-6b4c-437e-8f35-89dd5977a7a9",
        "colab": {
          "resources": {
            "http://localhost:8080/nbextensions/google.colab/files.js": {
              "data": "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",
              "ok": true,
              "headers": [
                [
                  "content-type",
                  "application/javascript"
                ]
              ],
              "status": 200,
              "status_text": ""
            }
          },
          "base_uri": "https://localhost:8080/",
          "height": 74
        }
      },
      "cell_type": "code",
      "source": [
        "from google.colab import files\n",
        "\n",
        "uploaded = files.upload()"
      ],
      "execution_count": 0,
      "outputs": [
        {
          "output_type": "display_data",
          "data": {
            "text/html": [
              "\n",
              "     <input type=\"file\" id=\"files-fe4124bd-f556-4899-bb8f-776d58a05306\" name=\"files[]\" multiple disabled />\n",
              "     <output id=\"result-fe4124bd-f556-4899-bb8f-776d58a05306\">\n",
              "      Upload widget is only available when the cell has been executed in the\n",
              "      current browser session. Please rerun this cell to enable.\n",
              "      </output>\n",
              "      <script src=\"/nbextensions/google.colab/files.js\"></script> "
            ],
            "text/plain": [
              "<IPython.core.display.HTML object>"
            ]
          },
          "metadata": {
            "tags": []
          }
        },
        {
          "output_type": "stream",
          "text": [
            "Saving diesel_train.csv to diesel_train.csv\n"
          ],
          "name": "stdout"
        }
      ]
    },
    {
      "metadata": {
        "id": "BkF2UXdfuoiB",
        "colab_type": "text"
      },
      "cell_type": "markdown",
      "source": [
        "Importing the data set into a pandas dataframe.\n"
      ]
    },
    {
      "metadata": {
        "id": "22AuhI6O066J",
        "colab_type": "code",
        "colab": {}
      },
      "cell_type": "code",
      "source": [
        "dataset = pd.read_csv('diesel_train.csv')"
      ],
      "execution_count": 0,
      "outputs": []
    },
    {
      "metadata": {
        "id": "9fMSP90rurDl",
        "colab_type": "text"
      },
      "cell_type": "markdown",
      "source": [
        "We are only interested in the Diesel price . Therefore, we will filter all the data from our training set and will retain only the values for the Diesel column."
      ]
    },
    {
      "metadata": {
        "id": "OqIe7x4a1LGd",
        "colab_type": "code",
        "colab": {}
      },
      "cell_type": "code",
      "source": [
        "dataset_true = dataset.iloc[:, 1:2].values "
      ],
      "execution_count": 0,
      "outputs": []
    },
    {
      "metadata": {
        "id": "R8BtvfMAvFKP",
        "colab_type": "text"
      },
      "cell_type": "markdown",
      "source": [
        "Whenever we use a neural network, we should normalize or scale your data. We will use MinMaxScaler class from the sklear.preprocessing library to scale our data between 0 and 1. The feature_range parameter is used to specify the range of the scaled data."
      ]
    },
    {
      "metadata": {
        "id": "vg1SuikW2YUs",
        "colab_type": "code",
        "colab": {}
      },
      "cell_type": "code",
      "source": [
        "\n",
        "from sklearn.preprocessing import MinMaxScaler  \n",
        "scaler = MinMaxScaler(feature_range = (0, 1))\n",
        "\n",
        "dataset_scaled = scaler.fit_transform(dataset_true)  "
      ],
      "execution_count": 0,
      "outputs": []
    },
    {
      "metadata": {
        "id": "Wh789LYNvfO4",
        "colab_type": "text"
      },
      "cell_type": "markdown",
      "source": [
        "We are going to predict the Diesel price based on the Diesel price for the past 90 days.\n",
        "Our feature set should contain the Diesel price values for the past 90 days while the label or dependent variable should be the Diesel price at the 91st day."
      ]
    },
    {
      "metadata": {
        "id": "UwAoDdjx3Bre",
        "colab_type": "code",
        "colab": {}
      },
      "cell_type": "code",
      "source": [
        "features_set = []  \n",
        "labels = []  \n",
        "for i in range(90, 4230):  \n",
        "    features_set.append(dataset_scaled[i-90:i, 0])\n",
        "    labels.append(dataset_scaled[i, 0])"
      ],
      "execution_count": 0,
      "outputs": []
    },
    {
      "metadata": {
        "id": "d9aiGqqFv59I",
        "colab_type": "text"
      },
      "cell_type": "markdown",
      "source": [
        "We need to convert both the feature_set and the labels list to the numpy array before we can use it for training."
      ]
    },
    {
      "metadata": {
        "id": "6EVTdplL5tfK",
        "colab_type": "code",
        "colab": {}
      },
      "cell_type": "code",
      "source": [
        "features_set, labels = np.array(features_set), np.array(labels) "
      ],
      "execution_count": 0,
      "outputs": []
    },
    {
      "metadata": {
        "id": "OpzgXhtNwOIB",
        "colab_type": "text"
      },
      "cell_type": "markdown",
      "source": [
        "In order to train LSTM on our data, we need to convert our data into the shape accepted by the LSTM. We need to convert our data into three-dimensional format. The first dimension is the number of records or rows in the dataset which is 4230 in our case. The second dimension is the number of time steps which is 90 while the last dimension is the number of indicators. Since we are only using one feature, i.e Diesel Price, the number of indicators will be one."
      ]
    },
    {
      "metadata": {
        "id": "zmdtPEl556bu",
        "colab_type": "code",
        "colab": {}
      },
      "cell_type": "code",
      "source": [
        "features_set = np.reshape(features_set, (features_set.shape[0], features_set.shape[1], 1))  "
      ],
      "execution_count": 0,
      "outputs": []
    },
    {
      "metadata": {
        "id": "Xc73TMPNwapM",
        "colab_type": "text"
      },
      "cell_type": "markdown",
      "source": [
        "# **Model Building Phase (Adding LSTM layers + Output Layer)**\n",
        "We have preprocessed our data and have converted it into the desired format. now is the time to create our LSTM. The LSTM model that we are going to create will be a sequential model with multiple layers. We will add four LSTM layers to our model followed by a dense layer that predicts the future Diesel price."
      ]
    },
    {
      "metadata": {
        "id": "R-s6pJnbwxvk",
        "colab_type": "text"
      },
      "cell_type": "markdown",
      "source": [
        "Let's first import the libraries that we are going to need in order to create our model"
      ]
    },
    {
      "metadata": {
        "id": "-soDVXyq597H",
        "colab_type": "code",
        "outputId": "7cc1cea6-7879-4587-f3e2-bb929a63e137",
        "colab": {
          "base_uri": "https://localhost:8080/",
          "height": 34
        }
      },
      "cell_type": "code",
      "source": [
        "from keras.models import Sequential  \n",
        "from keras.layers import Dense  \n",
        "from keras.layers import LSTM  \n",
        "from keras.layers import Dropout  "
      ],
      "execution_count": 0,
      "outputs": [
        {
          "output_type": "stream",
          "text": [
            "Using TensorFlow backend.\n"
          ],
          "name": "stderr"
        }
      ]
    },
    {
      "metadata": {
        "id": "qanbAnc8w3_g",
        "colab_type": "text"
      },
      "cell_type": "markdown",
      "source": [
        "As a first step, we need to instantiate the Sequential class. This will be our model class and we will add LSTM, Dropout and Dense layers to this model. "
      ]
    },
    {
      "metadata": {
        "id": "UP7FI_7G6Akw",
        "colab_type": "code",
        "colab": {}
      },
      "cell_type": "code",
      "source": [
        "model = Sequential()"
      ],
      "execution_count": 0,
      "outputs": []
    },
    {
      "metadata": {
        "id": "YJeniOIYw7By",
        "colab_type": "text"
      },
      "cell_type": "markdown",
      "source": [
        "To add a layer to the sequential model, the add method is used. Inside the add method, we passed our LSTM layer. The first parameter to the LSTM layer is the number of neurons or nodes that we want in the layer. The second parameter is return_sequences, which is set to true since we will add more layers to the model. The first parameter to the input_shape is the number of time steps while the last parameter is the number of indicators."
      ]
    },
    {
      "metadata": {
        "id": "qYnSZvzL__IR",
        "colab_type": "code",
        "colab": {}
      },
      "cell_type": "code",
      "source": [
        "model.add(LSTM(units=50, return_sequences=True, input_shape=(features_set.shape[1], 1)))  "
      ],
      "execution_count": 0,
      "outputs": []
    },
    {
      "metadata": {
        "id": "QuCsECabxJ9b",
        "colab_type": "text"
      },
      "cell_type": "markdown",
      "source": [
        "Let's now add a dropout layer to our model. Dropout layer is added to avoid over-fitting, which is a phenomenon where a machine learning model performs better on the training data compared to the test data."
      ]
    },
    {
      "metadata": {
        "id": "yiNpFI_dAG9n",
        "colab_type": "code",
        "colab": {}
      },
      "cell_type": "code",
      "source": [
        "model.add(Dropout(0.2))"
      ],
      "execution_count": 0,
      "outputs": []
    },
    {
      "metadata": {
        "id": "8xNGUSxbALlc",
        "colab_type": "code",
        "colab": {}
      },
      "cell_type": "code",
      "source": [
        "model.add(LSTM(units=50, return_sequences=True))  \n",
        "model.add(Dropout(0.2))\n",
        "\n",
        "model.add(LSTM(units=50, return_sequences=True))  \n",
        "model.add(Dropout(0.2))\n",
        "\n",
        "model.add(LSTM(units=50))  \n",
        "model.add(Dropout(0.2))  "
      ],
      "execution_count": 0,
      "outputs": []
    },
    {
      "metadata": {
        "id": "kv20ttAuxWLp",
        "colab_type": "text"
      },
      "cell_type": "markdown",
      "source": [
        "To make our model more robust, we add a dense layer at the end of the model. The number of neurons in the dense layer will be set to 1 since we want to predict a single value in the output."
      ]
    },
    {
      "metadata": {
        "id": "_Fsu_Rn0AQA0",
        "colab_type": "code",
        "colab": {}
      },
      "cell_type": "code",
      "source": [
        "model.add(Dense(units = 1)) "
      ],
      "execution_count": 0,
      "outputs": []
    },
    {
      "metadata": {
        "id": "U90JiloZAT4Y",
        "colab_type": "code",
        "colab": {}
      },
      "cell_type": "code",
      "source": [
        "model.compile(optimizer = 'adam', loss = 'mean_squared_error') "
      ],
      "execution_count": 0,
      "outputs": []
    },
    {
      "metadata": {
        "id": "Ewx9DFdsxg9l",
        "colab_type": "text"
      },
      "cell_type": "markdown",
      "source": [
        "Now is the time to train the model that we defined in the previous few steps. To do so, we call the fit method on the model and pass it our training features and labels"
      ]
    },
    {
      "metadata": {
        "id": "PIRm7UcfAWjl",
        "colab_type": "code",
        "outputId": "74f2702d-6073-47ee-d032-28b6c47c3666",
        "colab": {
          "base_uri": "https://localhost:8080/",
          "height": 3505
        }
      },
      "cell_type": "code",
      "source": [
        "model.fit(features_set, labels, epochs = 100, batch_size = 32) "
      ],
      "execution_count": 0,
      "outputs": [
        {
          "output_type": "stream",
          "text": [
            "WARNING:tensorflow:From /usr/local/lib/python3.6/dist-packages/tensorflow/python/ops/math_ops.py:3066: to_int32 (from tensorflow.python.ops.math_ops) is deprecated and will be removed in a future version.\n",
            "Instructions for updating:\n",
            "Use tf.cast instead.\n",
            "Epoch 1/100\n",
            "4140/4140 [==============================] - 106s 26ms/step - loss: 0.0102\n",
            "Epoch 2/100\n",
            "4140/4140 [==============================] - 99s 24ms/step - loss: 0.0022\n",
            "Epoch 3/100\n",
            "4140/4140 [==============================] - 99s 24ms/step - loss: 0.0018\n",
            "Epoch 4/100\n",
            "4140/4140 [==============================] - 99s 24ms/step - loss: 0.0018\n",
            "Epoch 5/100\n",
            "4140/4140 [==============================] - 99s 24ms/step - loss: 0.0018\n",
            "Epoch 6/100\n",
            "4140/4140 [==============================] - 99s 24ms/step - loss: 0.0016\n",
            "Epoch 7/100\n",
            "4140/4140 [==============================] - 99s 24ms/step - loss: 0.0015\n",
            "Epoch 8/100\n",
            "4140/4140 [==============================] - 99s 24ms/step - loss: 0.0014\n",
            "Epoch 9/100\n",
            "4140/4140 [==============================] - 99s 24ms/step - loss: 0.0013\n",
            "Epoch 10/100\n",
            "4140/4140 [==============================] - 99s 24ms/step - loss: 0.0013\n",
            "Epoch 11/100\n",
            "4140/4140 [==============================] - 100s 24ms/step - loss: 0.0013\n",
            "Epoch 12/100\n",
            "4140/4140 [==============================] - 101s 24ms/step - loss: 0.0014\n",
            "Epoch 13/100\n",
            "4140/4140 [==============================] - 101s 24ms/step - loss: 0.0011\n",
            "Epoch 14/100\n",
            "4140/4140 [==============================] - 100s 24ms/step - loss: 0.0010\n",
            "Epoch 15/100\n",
            "4140/4140 [==============================] - 99s 24ms/step - loss: 0.0010\n",
            "Epoch 16/100\n",
            "4140/4140 [==============================] - 99s 24ms/step - loss: 9.1974e-04\n",
            "Epoch 17/100\n",
            "4140/4140 [==============================] - 99s 24ms/step - loss: 9.9187e-04\n",
            "Epoch 18/100\n",
            "4140/4140 [==============================] - 99s 24ms/step - loss: 8.8970e-04\n",
            "Epoch 19/100\n",
            "4140/4140 [==============================] - 99s 24ms/step - loss: 8.7375e-04\n",
            "Epoch 20/100\n",
            "4140/4140 [==============================] - 100s 24ms/step - loss: 9.4393e-04\n",
            "Epoch 21/100\n",
            "4140/4140 [==============================] - 98s 24ms/step - loss: 8.3420e-04\n",
            "Epoch 22/100\n",
            "4140/4140 [==============================] - 99s 24ms/step - loss: 8.9245e-04\n",
            "Epoch 23/100\n",
            "4140/4140 [==============================] - 98s 24ms/step - loss: 8.0752e-04\n",
            "Epoch 24/100\n",
            "4140/4140 [==============================] - 98s 24ms/step - loss: 7.6287e-04\n",
            "Epoch 25/100\n",
            "4140/4140 [==============================] - 99s 24ms/step - loss: 7.3568e-04\n",
            "Epoch 26/100\n",
            "4140/4140 [==============================] - 100s 24ms/step - loss: 7.0020e-04\n",
            "Epoch 27/100\n",
            "4140/4140 [==============================] - 99s 24ms/step - loss: 7.6694e-04\n",
            "Epoch 28/100\n",
            "4140/4140 [==============================] - 99s 24ms/step - loss: 6.7252e-04\n",
            "Epoch 29/100\n",
            "4140/4140 [==============================] - 99s 24ms/step - loss: 7.7679e-04\n",
            "Epoch 30/100\n",
            "4140/4140 [==============================] - 99s 24ms/step - loss: 7.1828e-04\n",
            "Epoch 31/100\n",
            "4140/4140 [==============================] - 99s 24ms/step - loss: 6.6471e-04\n",
            "Epoch 32/100\n",
            "4140/4140 [==============================] - 100s 24ms/step - loss: 6.9090e-04\n",
            "Epoch 33/100\n",
            "4140/4140 [==============================] - 100s 24ms/step - loss: 6.5831e-04\n",
            "Epoch 34/100\n",
            "4140/4140 [==============================] - 100s 24ms/step - loss: 6.4402e-04\n",
            "Epoch 35/100\n",
            "4140/4140 [==============================] - 94s 23ms/step - loss: 6.6529e-04\n",
            "Epoch 36/100\n",
            "4140/4140 [==============================] - 92s 22ms/step - loss: 6.6134e-04\n",
            "Epoch 37/100\n",
            "4140/4140 [==============================] - 99s 24ms/step - loss: 6.5692e-04\n",
            "Epoch 38/100\n",
            "4140/4140 [==============================] - 99s 24ms/step - loss: 7.0417e-04\n",
            "Epoch 39/100\n",
            "4140/4140 [==============================] - 100s 24ms/step - loss: 6.4206e-04\n",
            "Epoch 40/100\n",
            "4140/4140 [==============================] - 99s 24ms/step - loss: 6.2861e-04\n",
            "Epoch 41/100\n",
            "4140/4140 [==============================] - 99s 24ms/step - loss: 6.4322e-04\n",
            "Epoch 42/100\n",
            "4140/4140 [==============================] - 99s 24ms/step - loss: 6.0918e-04\n",
            "Epoch 43/100\n",
            "4140/4140 [==============================] - 98s 24ms/step - loss: 6.1118e-04\n",
            "Epoch 44/100\n",
            "4140/4140 [==============================] - 99s 24ms/step - loss: 6.6223e-04\n",
            "Epoch 45/100\n",
            "4140/4140 [==============================] - 99s 24ms/step - loss: 7.2963e-04\n",
            "Epoch 46/100\n",
            "4140/4140 [==============================] - 99s 24ms/step - loss: 6.1283e-04\n",
            "Epoch 47/100\n",
            "4140/4140 [==============================] - 99s 24ms/step - loss: 6.0193e-04\n",
            "Epoch 48/100\n",
            "4140/4140 [==============================] - 99s 24ms/step - loss: 5.6158e-04\n",
            "Epoch 49/100\n",
            "4140/4140 [==============================] - 98s 24ms/step - loss: 5.7654e-04\n",
            "Epoch 50/100\n",
            "4140/4140 [==============================] - 99s 24ms/step - loss: 5.3601e-04\n",
            "Epoch 51/100\n",
            "4140/4140 [==============================] - 99s 24ms/step - loss: 5.6974e-04\n",
            "Epoch 52/100\n",
            "4140/4140 [==============================] - 99s 24ms/step - loss: 5.5317e-04\n",
            "Epoch 53/100\n",
            "4140/4140 [==============================] - 100s 24ms/step - loss: 4.9609e-04\n",
            "Epoch 54/100\n",
            "4140/4140 [==============================] - 99s 24ms/step - loss: 6.3027e-04\n",
            "Epoch 55/100\n",
            "4140/4140 [==============================] - 99s 24ms/step - loss: 5.8667e-04\n",
            "Epoch 56/100\n",
            "4140/4140 [==============================] - 100s 24ms/step - loss: 5.4725e-04\n",
            "Epoch 57/100\n",
            "4140/4140 [==============================] - 100s 24ms/step - loss: 6.1880e-04\n",
            "Epoch 58/100\n",
            "4140/4140 [==============================] - 99s 24ms/step - loss: 5.6652e-04\n",
            "Epoch 59/100\n",
            "4140/4140 [==============================] - 99s 24ms/step - loss: 5.3722e-04\n",
            "Epoch 60/100\n",
            "4140/4140 [==============================] - 99s 24ms/step - loss: 5.7714e-04\n",
            "Epoch 61/100\n",
            "4140/4140 [==============================] - 101s 24ms/step - loss: 5.6584e-04\n",
            "Epoch 62/100\n",
            "4140/4140 [==============================] - 99s 24ms/step - loss: 5.8065e-04\n",
            "Epoch 63/100\n",
            "4140/4140 [==============================] - 98s 24ms/step - loss: 5.6671e-04\n",
            "Epoch 64/100\n",
            "4140/4140 [==============================] - 98s 24ms/step - loss: 4.8769e-04\n",
            "Epoch 65/100\n",
            "4140/4140 [==============================] - 102s 25ms/step - loss: 5.8408e-04\n",
            "Epoch 66/100\n",
            "4140/4140 [==============================] - 100s 24ms/step - loss: 5.0028e-04\n",
            "Epoch 67/100\n",
            "4140/4140 [==============================] - 101s 24ms/step - loss: 5.9405e-04\n",
            "Epoch 68/100\n",
            "4140/4140 [==============================] - 104s 25ms/step - loss: 5.7388e-04\n",
            "Epoch 69/100\n",
            "4140/4140 [==============================] - 100s 24ms/step - loss: 5.5931e-04\n",
            "Epoch 70/100\n",
            "4140/4140 [==============================] - 99s 24ms/step - loss: 5.7634e-04\n",
            "Epoch 71/100\n",
            "4140/4140 [==============================] - 99s 24ms/step - loss: 5.0800e-04\n",
            "Epoch 72/100\n",
            "4140/4140 [==============================] - 99s 24ms/step - loss: 5.5918e-04\n",
            "Epoch 73/100\n",
            "4140/4140 [==============================] - 99s 24ms/step - loss: 5.3331e-04\n",
            "Epoch 74/100\n",
            "4140/4140 [==============================] - 99s 24ms/step - loss: 5.2915e-04\n",
            "Epoch 75/100\n",
            "4140/4140 [==============================] - 100s 24ms/step - loss: 5.2353e-04\n",
            "Epoch 76/100\n",
            "4140/4140 [==============================] - 100s 24ms/step - loss: 5.0003e-04\n",
            "Epoch 77/100\n",
            "4140/4140 [==============================] - 101s 24ms/step - loss: 5.1180e-04\n",
            "Epoch 78/100\n",
            "4140/4140 [==============================] - 100s 24ms/step - loss: 5.1819e-04\n",
            "Epoch 79/100\n",
            "4140/4140 [==============================] - 100s 24ms/step - loss: 4.8876e-04\n",
            "Epoch 80/100\n",
            "4140/4140 [==============================] - 101s 24ms/step - loss: 5.4031e-04\n",
            "Epoch 81/100\n",
            "4140/4140 [==============================] - 100s 24ms/step - loss: 5.2630e-04\n",
            "Epoch 82/100\n",
            "4140/4140 [==============================] - 99s 24ms/step - loss: 5.4450e-04\n",
            "Epoch 83/100\n",
            "4140/4140 [==============================] - 99s 24ms/step - loss: 4.9743e-04\n",
            "Epoch 84/100\n",
            "4140/4140 [==============================] - 99s 24ms/step - loss: 5.3221e-04\n",
            "Epoch 85/100\n",
            "4140/4140 [==============================] - 99s 24ms/step - loss: 5.3333e-04\n",
            "Epoch 86/100\n",
            "4140/4140 [==============================] - 98s 24ms/step - loss: 4.8603e-04\n",
            "Epoch 87/100\n",
            "4140/4140 [==============================] - 99s 24ms/step - loss: 4.9925e-04\n",
            "Epoch 88/100\n",
            "4140/4140 [==============================] - 100s 24ms/step - loss: 5.4339e-04\n",
            "Epoch 89/100\n",
            "4140/4140 [==============================] - 100s 24ms/step - loss: 4.9298e-04\n",
            "Epoch 90/100\n",
            "4140/4140 [==============================] - 93s 23ms/step - loss: 4.8677e-04\n",
            "Epoch 91/100\n",
            "4140/4140 [==============================] - 97s 23ms/step - loss: 4.9907e-04\n",
            "Epoch 92/100\n",
            "4140/4140 [==============================] - 99s 24ms/step - loss: 4.7660e-04\n",
            "Epoch 93/100\n",
            "4140/4140 [==============================] - 99s 24ms/step - loss: 4.8282e-04\n",
            "Epoch 94/100\n",
            "4140/4140 [==============================] - 100s 24ms/step - loss: 4.8760e-04\n",
            "Epoch 95/100\n",
            "4140/4140 [==============================] - 99s 24ms/step - loss: 5.2996e-04\n",
            "Epoch 96/100\n",
            "4140/4140 [==============================] - 100s 24ms/step - loss: 4.7798e-04\n",
            "Epoch 97/100\n",
            "4140/4140 [==============================] - 100s 24ms/step - loss: 4.9519e-04\n",
            "Epoch 98/100\n",
            "4140/4140 [==============================] - 98s 24ms/step - loss: 4.7967e-04\n",
            "Epoch 99/100\n",
            "4140/4140 [==============================] - 102s 25ms/step - loss: 4.9618e-04\n",
            "Epoch 100/100\n",
            "4140/4140 [==============================] - 104s 25ms/step - loss: 5.1125e-04\n"
          ],
          "name": "stdout"
        },
        {
          "output_type": "execute_result",
          "data": {
            "text/plain": [
              "<keras.callbacks.History at 0x7f3ac6b1d438>"
            ]
          },
          "metadata": {
            "tags": []
          },
          "execution_count": 29
        }
      ]
    },
    {
      "metadata": {
        "id": "evLLoyH_xsJT",
        "colab_type": "text"
      },
      "cell_type": "markdown",
      "source": [
        "# **Prediction and Visualization of Results**"
      ]
    },
    {
      "metadata": {
        "id": "wxkyrEDJAajC",
        "colab_type": "code",
        "outputId": "1646c6f1-22cd-46aa-d56f-be8cc3e2508b",
        "colab": {
          "resources": {
            "http://localhost:8080/nbextensions/google.colab/files.js": {
              "data": "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",
              "ok": true,
              "headers": [
                [
                  "content-type",
                  "application/javascript"
                ]
              ],
              "status": 200,
              "status_text": ""
            }
          },
          "base_uri": "https://localhost:8080/",
          "height": 74
        }
      },
      "cell_type": "code",
      "source": [
        "from google.colab import files\n",
        "\n",
        "uploaded = files.upload()"
      ],
      "execution_count": 0,
      "outputs": [
        {
          "output_type": "display_data",
          "data": {
            "text/html": [
              "\n",
              "     <input type=\"file\" id=\"files-d56943c0-e00e-45e9-a94f-bd6433c80150\" name=\"files[]\" multiple disabled />\n",
              "     <output id=\"result-d56943c0-e00e-45e9-a94f-bd6433c80150\">\n",
              "      Upload widget is only available when the cell has been executed in the\n",
              "      current browser session. Please rerun this cell to enable.\n",
              "      </output>\n",
              "      <script src=\"/nbextensions/google.colab/files.js\"></script> "
            ],
            "text/plain": [
              "<IPython.core.display.HTML object>"
            ]
          },
          "metadata": {
            "tags": []
          }
        },
        {
          "output_type": "stream",
          "text": [
            "Saving diesel_test.csv to diesel_test.csv\n"
          ],
          "name": "stdout"
        }
      ]
    },
    {
      "metadata": {
        "id": "YeoQv9Jvm8ff",
        "colab_type": "code",
        "colab": {}
      },
      "cell_type": "code",
      "source": [
        "dataset_new = pd.read_csv('diesel_test.csv')  \n",
        "dataset_new_processed = dataset_new .iloc[:, 1:2].values  "
      ],
      "execution_count": 0,
      "outputs": []
    },
    {
      "metadata": {
        "id": "D1Hk4hPjxkh8",
        "colab_type": "text"
      },
      "cell_type": "markdown",
      "source": [
        "We should concatenate our training data and test data before preprocessing."
      ]
    },
    {
      "metadata": {
        "id": "O2syHfV-nMGW",
        "colab_type": "code",
        "colab": {}
      },
      "cell_type": "code",
      "source": [
        "dataset_total = pd.concat((dataset['Delhi'], dataset_new['Delhi']), axis=0)  "
      ],
      "execution_count": 0,
      "outputs": []
    },
    {
      "metadata": {
        "id": "Vc5K5r02yGOr",
        "colab_type": "text"
      },
      "cell_type": "markdown",
      "source": [
        "Now let's prepare our test inputs. The input for each day should contain the Diesel prices for the previous 90 days."
      ]
    },
    {
      "metadata": {
        "id": "7ea5sJ-InyzD",
        "colab_type": "code",
        "colab": {}
      },
      "cell_type": "code",
      "source": [
        "test_inputs = dataset_total[len(dataset_total) - len(dataset_new) - 90:].values  "
      ],
      "execution_count": 0,
      "outputs": []
    },
    {
      "metadata": {
        "id": "J5rh9YlfpGkm",
        "colab_type": "code",
        "colab": {}
      },
      "cell_type": "code",
      "source": [
        "test_inputs = test_inputs.reshape(-1,1)  \n",
        "test_inputs = scaler.transform(test_inputs) "
      ],
      "execution_count": 0,
      "outputs": []
    },
    {
      "metadata": {
        "id": "KGBULL0xpLHP",
        "colab_type": "code",
        "colab": {}
      },
      "cell_type": "code",
      "source": [
        "test_features = []  \n",
        "for i in range(90, 1076):  \n",
        "    test_features.append(test_inputs[i-90:i, 0])"
      ],
      "execution_count": 0,
      "outputs": []
    },
    {
      "metadata": {
        "id": "i6auf0JzpOl1",
        "colab_type": "code",
        "colab": {}
      },
      "cell_type": "code",
      "source": [
        "test_features = np.array(test_features)  \n",
        "test_features = np.reshape(test_features, (test_features.shape[0], test_features.shape[1], 1))  \n"
      ],
      "execution_count": 0,
      "outputs": []
    },
    {
      "metadata": {
        "id": "5JSH2DOxyWpH",
        "colab_type": "text"
      },
      "cell_type": "markdown",
      "source": [
        "We preprocessed our test data and now we can use it to make predictions."
      ]
    },
    {
      "metadata": {
        "id": "Gc4k3WMzpW89",
        "colab_type": "code",
        "colab": {}
      },
      "cell_type": "code",
      "source": [
        "predictions = model.predict(test_features) "
      ],
      "execution_count": 0,
      "outputs": []
    },
    {
      "metadata": {
        "id": "lb177EMqycxi",
        "colab_type": "text"
      },
      "cell_type": "markdown",
      "source": [
        "Since we scaled our data, the predictions made by the LSTM are also scaled. We need to reverse the scaled prediction back to their actual values. To do so, we can use the ìnverse_transform method of the scaler object we created during training."
      ]
    },
    {
      "metadata": {
        "id": "PuMqAluppaXE",
        "colab_type": "code",
        "colab": {}
      },
      "cell_type": "code",
      "source": [
        "predictions = scaler.inverse_transform(predictions)"
      ],
      "execution_count": 0,
      "outputs": []
    },
    {
      "metadata": {
        "id": "Xijsn77Qyh1d",
        "colab_type": "text"
      },
      "cell_type": "markdown",
      "source": [
        "Let's plot our predictions against actual values using matplotlib."
      ]
    },
    {
      "metadata": {
        "id": "kD8WXAzlpgLe",
        "colab_type": "code",
        "outputId": "a40d73a1-3e5a-476a-9217-361f59ecb593",
        "colab": {
          "base_uri": "https://localhost:8080/",
          "height": 403
        }
      },
      "cell_type": "code",
      "source": [
        "plt.figure(figsize=(10,6))  \n",
        "plt.plot(dataset_new_processed, color='blue', label='Actual Diesel Price')  \n",
        "plt.plot(predictions , color='red', label='Predicted Diesel Price')  \n",
        "plt.title('Diesel Price Prediction')  \n",
        "plt.xlabel('Date')  \n",
        "plt.ylabel('Diesel Price')  \n",
        "plt.legend()  \n",
        "plt.show()  "
      ],
      "execution_count": 0,
      "outputs": [
        {
          "output_type": "display_data",
          "data": {
            "image/png": "[encoded data removed]",
            "text/plain": [
              "<Figure size 720x432 with 1 Axes>"
            ]
          },
          "metadata": {
            "tags": []
          }
        }
      ]
    }
  ]
}